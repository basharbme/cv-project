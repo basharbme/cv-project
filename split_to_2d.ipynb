{
 "cells": [
  {
   "cell_type": "markdown",
   "metadata": {},
   "source": [
    "This file splits the pancreas dataset and labels into many 2d images per 3d image"
   ]
  },
  {
   "cell_type": "code",
   "execution_count": 1,
   "metadata": {},
   "outputs": [],
   "source": [
    "import nibabel as nib\n",
    "import matplotlib.pyplot as plt\n",
    "import imageio"
   ]
  },
  {
   "cell_type": "code",
   "execution_count": 2,
   "metadata": {},
   "outputs": [],
   "source": [
    "# path to images\n",
    "im_folder = 'C:/Users/noam_/Documents/Cornell/ComputerVision/Task07_Pancreas/Task07_Pancreas/imagesTr/'\n",
    "im_folder_labels = 'C:/Users/noam_/Documents/Cornell/ComputerVision/Task07_Pancreas/Task07_Pancreas/labelsTr/'\n",
    "\n",
    "# path to output files\n",
    "out_folder = 'C:/Users/noam_/Documents/Cornell/ComputerVision/Task07_Pancreas/Task07_Pancreas/imagesSplit/'\n",
    "out_folder_l = 'C:/Users/noam_/Documents/Cornell/ComputerVision/Task07_Pancreas/Task07_Pancreas/labelsSplit/'"
   ]
  },
  {
   "cell_type": "code",
   "execution_count": 3,
   "metadata": {},
   "outputs": [],
   "source": [
    "def pad_zeros(i):\n",
    "    if i < 10:\n",
    "        return \"00\" + str(i)\n",
    "    elif i < 100:\n",
    "        return \"0\" + str(i)\n",
    "    else:\n",
    "        return str(i)"
   ]
  },
  {
   "cell_type": "code",
   "execution_count": 5,
   "metadata": {
    "scrolled": true
   },
   "outputs": [
    {
     "name": "stdout",
     "output_type": "stream",
     "text": [
      "Currently splitting pancreas_001.nii.gz image\n",
      "Currently splitting pancreas_001.nii.gz labels\n",
      "Currently splitting pancreas_002.nii.gz image\n",
      "file pancreas_002.nii.gz does not exist\n",
      "Currently splitting pancreas_002.nii.gz labels\n",
      "file pancreas_002.nii.gz does not exist\n",
      "Currently splitting pancreas_003.nii.gz image\n",
      "file pancreas_003.nii.gz does not exist\n",
      "Currently splitting pancreas_003.nii.gz labels\n",
      "file pancreas_003.nii.gz does not exist\n",
      "Currently splitting pancreas_004.nii.gz image\n",
      "Currently splitting pancreas_004.nii.gz labels\n"
     ]
    }
   ],
   "source": [
    "# loop through images in folder and split into many 2d images\n",
    "for i in range(1, 422):   # 421 total pancreas images in folder\n",
    "    ind = pad_zeros(i)\n",
    "    im = 'pancreas_' + ind +'.nii.gz'\n",
    "    try:       \n",
    "        print(\"Currently splitting %s image\" % im)\n",
    "        im_load = nib.load(im_folder + im)\n",
    "        im_data = im_load.get_fdata()\n",
    "     \n",
    "    except:\n",
    "        print(\"file\", im, \"does not exist\")\n",
    "        \n",
    "    x,y,z = im_data.shape\n",
    "    # Split along 3rd dimension\n",
    "    for j in range(1,z):\n",
    "        name = out_folder + str(j) + 'pancreas_' + ind + '.jpg'\n",
    "        imageio.imwrite(name, (im_data[:,:,j]).astype('uint8'))\n",
    "    \n",
    "    # Repeat for the label images\n",
    "    try:\n",
    "        print(\"Currently splitting %s labels\" % im)\n",
    "        im_load = nib.load(im_folder_labels + im)\n",
    "        im_data = im_load.get_fdata()\n",
    "    except:\n",
    "        print(\"file\", im, \"does not exist\")\n",
    "        \n",
    "    x,y,z = im_data.shape\n",
    "    for j in range(1,z):\n",
    "        name = out_folder_l + 'l' + str(j) + 'pancreas_' + ind + '.jpg'\n",
    "        imageio.imwrite(name, (im_data[:,:,j]).astype('uint8'))\n",
    "    \n",
    "    \n",
    "        "
   ]
  },
  {
   "cell_type": "code",
   "execution_count": null,
   "metadata": {},
   "outputs": [],
   "source": [
    "# Convert to RGB\n",
    "# Find mean and stdev for each channel (R G B)\n"
   ]
  },
  {
   "cell_type": "code",
   "execution_count": null,
   "metadata": {},
   "outputs": [],
   "source": []
  }
 ],
 "metadata": {
  "kernelspec": {
   "display_name": "Python 3",
   "language": "python",
   "name": "python3"
  },
  "language_info": {
   "codemirror_mode": {
    "name": "ipython",
    "version": 3
   },
   "file_extension": ".py",
   "mimetype": "text/x-python",
   "name": "python",
   "nbconvert_exporter": "python",
   "pygments_lexer": "ipython3",
   "version": "3.7.0"
  }
 },
 "nbformat": 4,
 "nbformat_minor": 2
}
