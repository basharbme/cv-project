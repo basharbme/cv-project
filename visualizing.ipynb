{
 "cells": [
  {
   "cell_type": "code",
   "execution_count": 108,
   "metadata": {},
   "outputs": [],
   "source": [
    "import nibabel as nib\n",
    "import matplotlib.pyplot as plt\n",
    "import numpy as np\n",
    "from PIL import Image"
   ]
  },
  {
   "cell_type": "code",
   "execution_count": 107,
   "metadata": {},
   "outputs": [
    {
     "name": "stdout",
     "output_type": "stream",
     "text": [
      "(512, 512, 3)\n"
     ]
    },
    {
     "data": {
      "image/png": "[encoded data removed]",
      "text/plain": [
       "<Figure size 432x288 with 1 Axes>"
      ]
     },
     "metadata": {
      "needs_background": "light"
     },
     "output_type": "display_data"
    },
    {
     "name": "stdout",
     "output_type": "stream",
     "text": [
      "[0. 1. 2.]\n"
     ]
    }
   ],
   "source": [
    "# path to image\n",
    "# epi_img = nib.load('/Users/varshakishore/Downloads/Task07_Pancreas/imagesTr/pancreas_066.nii.gz')\n",
    "epi_img_l = nib.load('/Users/varshakishore/Downloads/Task07_Pancreas/labelsTr/pancreas_001.nii.gz')\n",
    "\n",
    "#read jpg and convert ot array. Results in a 512,512,3 array.\n",
    "jpgfile = Image.open(\"/Users/varshakishore/Downloads/Task07_Pancreas/labelsTr/slice_temp1-slice045.jpg\")\n",
    "array = np.asarray(jpgfile)\n",
    "print(array.shape)\n",
    "\n",
    "im = Image.fromarray(array[:,:,0])\n",
    "im.save(\"/Users/varshakishore/Downloads/temp1.jpeg\")\n",
    "epi_img_data = epi_img_l.get_fdata()\n",
    "slice_0 = epi_img_data[:,:,45]\n",
    "\n",
    "plt.imshow(slice_0)\n",
    "plt.show()\n",
    "print(np.unique(slice_0))\n",
    "\n"
   ]
  },
  {
   "cell_type": "code",
   "execution_count": 13,
   "metadata": {},
   "outputs": [
    {
     "data": {
      "image/png": "[encoded data removed]",
      "text/plain": [
       "<Figure size 432x288 with 1 Axes>"
      ]
     },
     "metadata": {
      "needs_background": "light"
     },
     "output_type": "display_data"
    }
   ],
   "source": [
    "epi_img_data_l = epi_img_l.get_fdata()\n",
    "epi_img_data_l.shape\n",
    "slice_0 = epi_img_data_l[15,:,:]\n",
    "plt.imshow(slice_0)\n",
    "plt.show()\n"
   ]
  },
  {
   "cell_type": "code",
   "execution_count": null,
   "metadata": {},
   "outputs": [],
   "source": []
  }
 ],
 "metadata": {
  "kernelspec": {
   "display_name": "Python 3",
   "language": "python",
   "name": "python3"
  },
  "language_info": {
   "codemirror_mode": {
    "name": "ipython",
    "version": 3
   },
   "file_extension": ".py",
   "mimetype": "text/x-python",
   "name": "python",
   "nbconvert_exporter": "python",
   "pygments_lexer": "ipython3",
   "version": "3.7.0"
  }
 },
 "nbformat": 4,
 "nbformat_minor": 2
}
